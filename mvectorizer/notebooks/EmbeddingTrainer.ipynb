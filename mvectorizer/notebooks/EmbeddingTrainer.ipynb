{
  "cells": [
    {
      "cell_type": "code",
      "execution_count": 1,
      "metadata": {
        "id": "-6eZO7vfPRjg"
      },
      "outputs": [],
      "source": [
        "import numpy as np\n",
        "import torch\n",
        "from torch.utils.data import random_split, Dataset, DataLoader\n",
        "from tqdm.autonotebook import tqdm\n",
        "\n",
        "import glob\n",
        "import os\n",
        "import random\n",
        "\n",
        "from sklearn.preprocessing import StandardScaler, LabelEncoder"
      ]
    },
    {
      "cell_type": "code",
      "execution_count": 2,
      "metadata": {
        "colab": {
          "base_uri": "https://localhost:8080/"
        },
        "id": "-wML7fi9NUk2",
        "outputId": "99adb1e9-9965-4ef7-8814-645c9df0d905"
      },
      "outputs": [
        {
          "name": "stdout",
          "output_type": "stream",
          "text": [
            "Mounted at /bebra\n"
          ]
        }
      ],
      "source": [
        "from google.colab import drive\n",
        "drive.mount(\"/bebra\")"
      ]
    },
    {
      "cell_type": "code",
      "execution_count": 3,
      "metadata": {
        "id": "rNmkUDav7yWA"
      },
      "outputs": [],
      "source": [
        "np.random.seed(42)\n",
        "torch.random.manual_seed(42)\n",
        "torch.cuda.manual_seed(42)"
      ]
    },
    {
      "cell_type": "code",
      "execution_count": 4,
      "metadata": {
        "colab": {
          "base_uri": "https://localhost:8080/"
        },
        "id": "iLIN7xScQ0pv",
        "outputId": "22fa0b2f-a9af-4d57-80c5-5caf2707ee1c"
      },
      "outputs": [
        {
          "name": "stdout",
          "output_type": "stream",
          "text": [
            "blues.00000.npy      country.00050.npy\tjazz.00000.npy\t pop.00050.npy\n",
            "blues.00001.npy      country.00051.npy\tjazz.00001.npy\t pop.00051.npy\n",
            "blues.00002.npy      country.00052.npy\tjazz.00002.npy\t pop.00052.npy\n",
            "blues.00003.npy      country.00053.npy\tjazz.00003.npy\t pop.00053.npy\n",
            "blues.00004.npy      country.00054.npy\tjazz.00004.npy\t pop.00054.npy\n",
            "blues.00005.npy      country.00055.npy\tjazz.00005.npy\t pop.00055.npy\n",
            "blues.00006.npy      country.00056.npy\tjazz.00006.npy\t pop.00056.npy\n",
            "blues.00007.npy      country.00057.npy\tjazz.00007.npy\t pop.00057.npy\n",
            "blues.00008.npy      country.00058.npy\tjazz.00008.npy\t pop.00058.npy\n",
            "blues.00009.npy      country.00059.npy\tjazz.00009.npy\t pop.00059.npy\n",
            "blues.00010.npy      country.00060.npy\tjazz.00010.npy\t pop.00060.npy\n",
            "blues.00011.npy      country.00061.npy\tjazz.00011.npy\t pop.00061.npy\n",
            "blues.00012.npy      country.00062.npy\tjazz.00012.npy\t pop.00062.npy\n",
            "blues.00013.npy      country.00063.npy\tjazz.00013.npy\t pop.00063.npy\n",
            "blues.00014.npy      country.00064.npy\tjazz.00014.npy\t pop.00064.npy\n",
            "blues.00015.npy      country.00065.npy\tjazz.00015.npy\t pop.00065.npy\n",
            "blues.00016.npy      country.00066.npy\tjazz.00016.npy\t pop.00066.npy\n",
            "blues.00017.npy      country.00067.npy\tjazz.00017.npy\t pop.00067.npy\n",
            "blues.00018.npy      country.00068.npy\tjazz.00018.npy\t pop.00068.npy\n",
            "blues.00019.npy      country.00069.npy\tjazz.00019.npy\t pop.00069.npy\n",
            "blues.00020.npy      country.00070.npy\tjazz.00020.npy\t pop.00070.npy\n",
            "blues.00021.npy      country.00071.npy\tjazz.00021.npy\t pop.00071.npy\n",
            "blues.00022.npy      country.00072.npy\tjazz.00022.npy\t pop.00072.npy\n",
            "blues.00023.npy      country.00073.npy\tjazz.00023.npy\t pop.00073.npy\n",
            "blues.00024.npy      country.00074.npy\tjazz.00024.npy\t pop.00074.npy\n",
            "blues.00025.npy      country.00075.npy\tjazz.00025.npy\t pop.00075.npy\n",
            "blues.00026.npy      country.00076.npy\tjazz.00026.npy\t pop.00076.npy\n",
            "blues.00027.npy      country.00077.npy\tjazz.00027.npy\t pop.00077.npy\n",
            "blues.00028.npy      country.00078.npy\tjazz.00028.npy\t pop.00078.npy\n",
            "blues.00029.npy      country.00079.npy\tjazz.00029.npy\t pop.00079.npy\n",
            "blues.00030.npy      country.00080.npy\tjazz.00030.npy\t pop.00080.npy\n",
            "blues.00031.npy      country.00081.npy\tjazz.00031.npy\t pop.00081.npy\n",
            "blues.00032.npy      country.00082.npy\tjazz.00032.npy\t pop.00082.npy\n",
            "blues.00033.npy      country.00083.npy\tjazz.00033.npy\t pop.00083.npy\n",
            "blues.00034.npy      country.00084.npy\tjazz.00034.npy\t pop.00084.npy\n",
            "blues.00035.npy      country.00085.npy\tjazz.00035.npy\t pop.00085.npy\n",
            "blues.00036.npy      country.00086.npy\tjazz.00036.npy\t pop.00086.npy\n",
            "blues.00037.npy      country.00087.npy\tjazz.00037.npy\t pop.00087.npy\n",
            "blues.00038.npy      country.00088.npy\tjazz.00038.npy\t pop.00088.npy\n",
            "blues.00039.npy      country.00089.npy\tjazz.00039.npy\t pop.00089.npy\n",
            "blues.00040.npy      country.00090.npy\tjazz.00040.npy\t pop.00090.npy\n",
            "blues.00041.npy      country.00091.npy\tjazz.00041.npy\t pop.00091.npy\n",
            "blues.00042.npy      country.00092.npy\tjazz.00042.npy\t pop.00092.npy\n",
            "blues.00043.npy      country.00093.npy\tjazz.00043.npy\t pop.00093.npy\n",
            "blues.00044.npy      country.00094.npy\tjazz.00044.npy\t pop.00094.npy\n",
            "blues.00045.npy      country.00095.npy\tjazz.00045.npy\t pop.00095.npy\n",
            "blues.00046.npy      country.00096.npy\tjazz.00046.npy\t pop.00096.npy\n",
            "blues.00047.npy      country.00097.npy\tjazz.00047.npy\t pop.00097.npy\n",
            "blues.00048.npy      country.00098.npy\tjazz.00048.npy\t pop.00098.npy\n",
            "blues.00049.npy      country.00099.npy\tjazz.00049.npy\t pop.00099.npy\n",
            "blues.00050.npy      disco.00000.npy\tjazz.00050.npy\t reggae.00000.npy\n",
            "blues.00051.npy      disco.00001.npy\tjazz.00051.npy\t reggae.00001.npy\n",
            "blues.00052.npy      disco.00002.npy\tjazz.00052.npy\t reggae.00002.npy\n",
            "blues.00053.npy      disco.00003.npy\tjazz.00053.npy\t reggae.00003.npy\n",
            "blues.00054.npy      disco.00004.npy\tjazz.00054.npy\t reggae.00004.npy\n",
            "blues.00055.npy      disco.00005.npy\tjazz.00055.npy\t reggae.00005.npy\n",
            "blues.00056.npy      disco.00006.npy\tjazz.00056.npy\t reggae.00006.npy\n",
            "blues.00057.npy      disco.00007.npy\tjazz.00057.npy\t reggae.00007.npy\n",
            "blues.00058.npy      disco.00008.npy\tjazz.00058.npy\t reggae.00008.npy\n",
            "blues.00059.npy      disco.00009.npy\tjazz.00059.npy\t reggae.00009.npy\n",
            "blues.00060.npy      disco.00010.npy\tjazz.00060.npy\t reggae.00010.npy\n",
            "blues.00061.npy      disco.00011.npy\tjazz.00061.npy\t reggae.00011.npy\n",
            "blues.00062.npy      disco.00012.npy\tjazz.00062.npy\t reggae.00012.npy\n",
            "blues.00063.npy      disco.00013.npy\tjazz.00063.npy\t reggae.00013.npy\n",
            "blues.00064.npy      disco.00014.npy\tjazz.00064.npy\t reggae.00014.npy\n",
            "blues.00065.npy      disco.00015.npy\tjazz.00065.npy\t reggae.00015.npy\n",
            "blues.00066.npy      disco.00016.npy\tjazz.00066.npy\t reggae.00016.npy\n",
            "blues.00067.npy      disco.00017.npy\tjazz.00067.npy\t reggae.00017.npy\n",
            "blues.00068.npy      disco.00018.npy\tjazz.00068.npy\t reggae.00018.npy\n",
            "blues.00069.npy      disco.00019.npy\tjazz.00069.npy\t reggae.00019.npy\n",
            "blues.00070.npy      disco.00020.npy\tjazz.00070.npy\t reggae.00020.npy\n",
            "blues.00071.npy      disco.00021.npy\tjazz.00071.npy\t reggae.00021.npy\n",
            "blues.00072.npy      disco.00022.npy\tjazz.00072.npy\t reggae.00022.npy\n",
            "blues.00073.npy      disco.00023.npy\tjazz.00073.npy\t reggae.00023.npy\n",
            "blues.00074.npy      disco.00024.npy\tjazz.00074.npy\t reggae.00024.npy\n",
            "blues.00075.npy      disco.00025.npy\tjazz.00075.npy\t reggae.00025.npy\n",
            "blues.00076.npy      disco.00026.npy\tjazz.00076.npy\t reggae.00026.npy\n",
            "blues.00077.npy      disco.00027.npy\tjazz.00077.npy\t reggae.00027.npy\n",
            "blues.00078.npy      disco.00028.npy\tjazz.00078.npy\t reggae.00028.npy\n",
            "blues.00079.npy      disco.00029.npy\tjazz.00079.npy\t reggae.00029.npy\n",
            "blues.00080.npy      disco.00030.npy\tjazz.00080.npy\t reggae.00030.npy\n",
            "blues.00081.npy      disco.00031.npy\tjazz.00081.npy\t reggae.00031.npy\n",
            "blues.00082.npy      disco.00032.npy\tjazz.00082.npy\t reggae.00032.npy\n",
            "blues.00083.npy      disco.00033.npy\tjazz.00083.npy\t reggae.00033.npy\n",
            "blues.00084.npy      disco.00034.npy\tjazz.00084.npy\t reggae.00034.npy\n",
            "blues.00085.npy      disco.00035.npy\tjazz.00085.npy\t reggae.00035.npy\n",
            "blues.00086.npy      disco.00036.npy\tjazz.00086.npy\t reggae.00036.npy\n",
            "blues.00087.npy      disco.00037.npy\tjazz.00087.npy\t reggae.00037.npy\n",
            "blues.00088.npy      disco.00038.npy\tjazz.00088.npy\t reggae.00038.npy\n",
            "blues.00089.npy      disco.00039.npy\tjazz.00089.npy\t reggae.00039.npy\n",
            "blues.00090.npy      disco.00040.npy\tjazz.00090.npy\t reggae.00040.npy\n",
            "blues.00091.npy      disco.00041.npy\tjazz.00091.npy\t reggae.00041.npy\n",
            "blues.00092.npy      disco.00042.npy\tjazz.00092.npy\t reggae.00042.npy\n",
            "blues.00093.npy      disco.00043.npy\tjazz.00093.npy\t reggae.00043.npy\n",
            "blues.00094.npy      disco.00044.npy\tjazz.00094.npy\t reggae.00044.npy\n",
            "blues.00095.npy      disco.00045.npy\tjazz.00095.npy\t reggae.00045.npy\n",
            "blues.00096.npy      disco.00046.npy\tjazz.00096.npy\t reggae.00046.npy\n",
            "blues.00097.npy      disco.00047.npy\tjazz.00097.npy\t reggae.00047.npy\n",
            "blues.00098.npy      disco.00048.npy\tjazz.00098.npy\t reggae.00048.npy\n",
            "blues.00099.npy      disco.00049.npy\tjazz.00099.npy\t reggae.00049.npy\n",
            "classical.00000.npy  disco.00050.npy\tmetal.00000.npy  reggae.00050.npy\n",
            "classical.00001.npy  disco.00051.npy\tmetal.00001.npy  reggae.00051.npy\n",
            "classical.00002.npy  disco.00052.npy\tmetal.00002.npy  reggae.00052.npy\n",
            "classical.00003.npy  disco.00053.npy\tmetal.00003.npy  reggae.00053.npy\n",
            "classical.00004.npy  disco.00054.npy\tmetal.00004.npy  reggae.00054.npy\n",
            "classical.00005.npy  disco.00055.npy\tmetal.00005.npy  reggae.00055.npy\n",
            "classical.00006.npy  disco.00056.npy\tmetal.00006.npy  reggae.00056.npy\n",
            "classical.00007.npy  disco.00057.npy\tmetal.00007.npy  reggae.00057.npy\n",
            "classical.00008.npy  disco.00058.npy\tmetal.00008.npy  reggae.00058.npy\n",
            "classical.00009.npy  disco.00059.npy\tmetal.00009.npy  reggae.00059.npy\n",
            "classical.00010.npy  disco.00060.npy\tmetal.00010.npy  reggae.00060.npy\n",
            "classical.00011.npy  disco.00061.npy\tmetal.00011.npy  reggae.00061.npy\n",
            "classical.00012.npy  disco.00062.npy\tmetal.00012.npy  reggae.00062.npy\n",
            "classical.00013.npy  disco.00063.npy\tmetal.00013.npy  reggae.00063.npy\n",
            "classical.00014.npy  disco.00064.npy\tmetal.00014.npy  reggae.00064.npy\n",
            "classical.00015.npy  disco.00065.npy\tmetal.00015.npy  reggae.00065.npy\n",
            "classical.00016.npy  disco.00066.npy\tmetal.00016.npy  reggae.00066.npy\n",
            "classical.00017.npy  disco.00067.npy\tmetal.00017.npy  reggae.00067.npy\n",
            "classical.00018.npy  disco.00068.npy\tmetal.00018.npy  reggae.00068.npy\n",
            "classical.00019.npy  disco.00069.npy\tmetal.00019.npy  reggae.00069.npy\n",
            "classical.00020.npy  disco.00070.npy\tmetal.00020.npy  reggae.00070.npy\n",
            "classical.00021.npy  disco.00071.npy\tmetal.00021.npy  reggae.00071.npy\n",
            "classical.00022.npy  disco.00072.npy\tmetal.00022.npy  reggae.00072.npy\n",
            "classical.00023.npy  disco.00073.npy\tmetal.00023.npy  reggae.00073.npy\n",
            "classical.00024.npy  disco.00074.npy\tmetal.00024.npy  reggae.00074.npy\n",
            "classical.00025.npy  disco.00075.npy\tmetal.00025.npy  reggae.00075.npy\n",
            "classical.00026.npy  disco.00076.npy\tmetal.00026.npy  reggae.00076.npy\n",
            "classical.00027.npy  disco.00077.npy\tmetal.00027.npy  reggae.00077.npy\n",
            "classical.00028.npy  disco.00078.npy\tmetal.00028.npy  reggae.00078.npy\n",
            "classical.00029.npy  disco.00079.npy\tmetal.00029.npy  reggae.00079.npy\n",
            "classical.00030.npy  disco.00080.npy\tmetal.00030.npy  reggae.00080.npy\n",
            "classical.00031.npy  disco.00081.npy\tmetal.00031.npy  reggae.00081.npy\n",
            "classical.00032.npy  disco.00082.npy\tmetal.00032.npy  reggae.00082.npy\n",
            "classical.00033.npy  disco.00083.npy\tmetal.00033.npy  reggae.00083.npy\n",
            "classical.00034.npy  disco.00084.npy\tmetal.00034.npy  reggae.00084.npy\n",
            "classical.00035.npy  disco.00085.npy\tmetal.00035.npy  reggae.00085.npy\n",
            "classical.00036.npy  disco.00086.npy\tmetal.00036.npy  reggae.00086.npy\n",
            "classical.00037.npy  disco.00087.npy\tmetal.00037.npy  reggae.00087.npy\n",
            "classical.00038.npy  disco.00088.npy\tmetal.00038.npy  reggae.00088.npy\n",
            "classical.00039.npy  disco.00089.npy\tmetal.00039.npy  reggae.00089.npy\n",
            "classical.00040.npy  disco.00090.npy\tmetal.00040.npy  reggae.00090.npy\n",
            "classical.00041.npy  disco.00091.npy\tmetal.00041.npy  reggae.00091.npy\n",
            "classical.00042.npy  disco.00092.npy\tmetal.00042.npy  reggae.00092.npy\n",
            "classical.00043.npy  disco.00093.npy\tmetal.00043.npy  reggae.00093.npy\n",
            "classical.00044.npy  disco.00094.npy\tmetal.00044.npy  reggae.00094.npy\n",
            "classical.00045.npy  disco.00095.npy\tmetal.00045.npy  reggae.00095.npy\n",
            "classical.00046.npy  disco.00096.npy\tmetal.00046.npy  reggae.00096.npy\n",
            "classical.00047.npy  disco.00097.npy\tmetal.00047.npy  reggae.00097.npy\n",
            "classical.00048.npy  disco.00098.npy\tmetal.00048.npy  reggae.00098.npy\n",
            "classical.00049.npy  disco.00099.npy\tmetal.00049.npy  reggae.00099.npy\n",
            "classical.00050.npy  hiphop.00000.npy\tmetal.00050.npy  rock.00000.npy\n",
            "classical.00051.npy  hiphop.00001.npy\tmetal.00051.npy  rock.00001.npy\n",
            "classical.00052.npy  hiphop.00002.npy\tmetal.00052.npy  rock.00002.npy\n",
            "classical.00053.npy  hiphop.00003.npy\tmetal.00053.npy  rock.00003.npy\n",
            "classical.00054.npy  hiphop.00004.npy\tmetal.00054.npy  rock.00004.npy\n",
            "classical.00055.npy  hiphop.00005.npy\tmetal.00055.npy  rock.00005.npy\n",
            "classical.00056.npy  hiphop.00006.npy\tmetal.00056.npy  rock.00006.npy\n",
            "classical.00057.npy  hiphop.00007.npy\tmetal.00057.npy  rock.00007.npy\n",
            "classical.00058.npy  hiphop.00008.npy\tmetal.00058.npy  rock.00008.npy\n",
            "classical.00059.npy  hiphop.00009.npy\tmetal.00059.npy  rock.00009.npy\n",
            "classical.00060.npy  hiphop.00010.npy\tmetal.00060.npy  rock.00010.npy\n",
            "classical.00061.npy  hiphop.00011.npy\tmetal.00061.npy  rock.00011.npy\n",
            "classical.00062.npy  hiphop.00012.npy\tmetal.00062.npy  rock.00012.npy\n",
            "classical.00063.npy  hiphop.00013.npy\tmetal.00063.npy  rock.00013.npy\n",
            "classical.00064.npy  hiphop.00014.npy\tmetal.00064.npy  rock.00014.npy\n",
            "classical.00065.npy  hiphop.00015.npy\tmetal.00065.npy  rock.00015.npy\n",
            "classical.00066.npy  hiphop.00016.npy\tmetal.00066.npy  rock.00016.npy\n",
            "classical.00067.npy  hiphop.00017.npy\tmetal.00067.npy  rock.00017.npy\n",
            "classical.00068.npy  hiphop.00018.npy\tmetal.00068.npy  rock.00018.npy\n",
            "classical.00069.npy  hiphop.00019.npy\tmetal.00069.npy  rock.00019.npy\n",
            "classical.00070.npy  hiphop.00020.npy\tmetal.00070.npy  rock.00020.npy\n",
            "classical.00071.npy  hiphop.00021.npy\tmetal.00071.npy  rock.00021.npy\n",
            "classical.00072.npy  hiphop.00022.npy\tmetal.00072.npy  rock.00022.npy\n",
            "classical.00073.npy  hiphop.00023.npy\tmetal.00073.npy  rock.00023.npy\n",
            "classical.00074.npy  hiphop.00024.npy\tmetal.00074.npy  rock.00024.npy\n",
            "classical.00075.npy  hiphop.00025.npy\tmetal.00075.npy  rock.00025.npy\n",
            "classical.00076.npy  hiphop.00026.npy\tmetal.00076.npy  rock.00026.npy\n",
            "classical.00077.npy  hiphop.00027.npy\tmetal.00077.npy  rock.00027.npy\n",
            "classical.00078.npy  hiphop.00028.npy\tmetal.00078.npy  rock.00028.npy\n",
            "classical.00079.npy  hiphop.00029.npy\tmetal.00079.npy  rock.00029.npy\n",
            "classical.00080.npy  hiphop.00030.npy\tmetal.00080.npy  rock.00030.npy\n",
            "classical.00081.npy  hiphop.00031.npy\tmetal.00081.npy  rock.00031.npy\n",
            "classical.00082.npy  hiphop.00032.npy\tmetal.00082.npy  rock.00032.npy\n",
            "classical.00083.npy  hiphop.00033.npy\tmetal.00083.npy  rock.00033.npy\n",
            "classical.00084.npy  hiphop.00034.npy\tmetal.00084.npy  rock.00034.npy\n",
            "classical.00085.npy  hiphop.00035.npy\tmetal.00085.npy  rock.00035.npy\n",
            "classical.00086.npy  hiphop.00036.npy\tmetal.00086.npy  rock.00036.npy\n",
            "classical.00087.npy  hiphop.00037.npy\tmetal.00087.npy  rock.00037.npy\n",
            "classical.00088.npy  hiphop.00038.npy\tmetal.00088.npy  rock.00038.npy\n",
            "classical.00089.npy  hiphop.00039.npy\tmetal.00089.npy  rock.00039.npy\n",
            "classical.00090.npy  hiphop.00040.npy\tmetal.00090.npy  rock.00040.npy\n",
            "classical.00091.npy  hiphop.00041.npy\tmetal.00091.npy  rock.00041.npy\n",
            "classical.00092.npy  hiphop.00042.npy\tmetal.00092.npy  rock.00042.npy\n",
            "classical.00093.npy  hiphop.00043.npy\tmetal.00093.npy  rock.00043.npy\n",
            "classical.00094.npy  hiphop.00044.npy\tmetal.00094.npy  rock.00044.npy\n",
            "classical.00095.npy  hiphop.00045.npy\tmetal.00095.npy  rock.00045.npy\n",
            "classical.00096.npy  hiphop.00046.npy\tmetal.00096.npy  rock.00046.npy\n",
            "classical.00097.npy  hiphop.00047.npy\tmetal.00097.npy  rock.00047.npy\n",
            "classical.00098.npy  hiphop.00048.npy\tmetal.00098.npy  rock.00048.npy\n",
            "classical.00099.npy  hiphop.00049.npy\tmetal.00099.npy  rock.00049.npy\n",
            "country.00000.npy    hiphop.00050.npy\tpop.00000.npy\t rock.00050.npy\n",
            "country.00001.npy    hiphop.00051.npy\tpop.00001.npy\t rock.00051.npy\n",
            "country.00002.npy    hiphop.00052.npy\tpop.00002.npy\t rock.00052.npy\n",
            "country.00003.npy    hiphop.00053.npy\tpop.00003.npy\t rock.00053.npy\n",
            "country.00004.npy    hiphop.00054.npy\tpop.00004.npy\t rock.00054.npy\n",
            "country.00005.npy    hiphop.00055.npy\tpop.00005.npy\t rock.00055.npy\n",
            "country.00006.npy    hiphop.00056.npy\tpop.00006.npy\t rock.00056.npy\n",
            "country.00007.npy    hiphop.00057.npy\tpop.00007.npy\t rock.00057.npy\n",
            "country.00008.npy    hiphop.00058.npy\tpop.00008.npy\t rock.00058.npy\n",
            "country.00009.npy    hiphop.00059.npy\tpop.00009.npy\t rock.00059.npy\n",
            "country.00010.npy    hiphop.00060.npy\tpop.00010.npy\t rock.00060.npy\n",
            "country.00011.npy    hiphop.00061.npy\tpop.00011.npy\t rock.00061.npy\n",
            "country.00012.npy    hiphop.00062.npy\tpop.00012.npy\t rock.00062.npy\n",
            "country.00013.npy    hiphop.00063.npy\tpop.00013.npy\t rock.00063.npy\n",
            "country.00014.npy    hiphop.00064.npy\tpop.00014.npy\t rock.00064.npy\n",
            "country.00015.npy    hiphop.00065.npy\tpop.00015.npy\t rock.00065.npy\n",
            "country.00016.npy    hiphop.00066.npy\tpop.00016.npy\t rock.00066.npy\n",
            "country.00017.npy    hiphop.00067.npy\tpop.00017.npy\t rock.00067.npy\n",
            "country.00018.npy    hiphop.00068.npy\tpop.00018.npy\t rock.00068.npy\n",
            "country.00019.npy    hiphop.00069.npy\tpop.00019.npy\t rock.00069.npy\n",
            "country.00020.npy    hiphop.00070.npy\tpop.00020.npy\t rock.00070.npy\n",
            "country.00021.npy    hiphop.00071.npy\tpop.00021.npy\t rock.00071.npy\n",
            "country.00022.npy    hiphop.00072.npy\tpop.00022.npy\t rock.00072.npy\n",
            "country.00023.npy    hiphop.00073.npy\tpop.00023.npy\t rock.00073.npy\n",
            "country.00024.npy    hiphop.00074.npy\tpop.00024.npy\t rock.00074.npy\n",
            "country.00025.npy    hiphop.00075.npy\tpop.00025.npy\t rock.00075.npy\n",
            "country.00026.npy    hiphop.00076.npy\tpop.00026.npy\t rock.00076.npy\n",
            "country.00027.npy    hiphop.00077.npy\tpop.00027.npy\t rock.00077.npy\n",
            "country.00028.npy    hiphop.00078.npy\tpop.00028.npy\t rock.00078.npy\n",
            "country.00029.npy    hiphop.00079.npy\tpop.00029.npy\t rock.00079.npy\n",
            "country.00030.npy    hiphop.00080.npy\tpop.00030.npy\t rock.00080.npy\n",
            "country.00031.npy    hiphop.00081.npy\tpop.00031.npy\t rock.00081.npy\n",
            "country.00032.npy    hiphop.00082.npy\tpop.00032.npy\t rock.00082.npy\n",
            "country.00033.npy    hiphop.00083.npy\tpop.00033.npy\t rock.00083.npy\n",
            "country.00034.npy    hiphop.00084.npy\tpop.00034.npy\t rock.00084.npy\n",
            "country.00035.npy    hiphop.00085.npy\tpop.00035.npy\t rock.00085.npy\n",
            "country.00036.npy    hiphop.00086.npy\tpop.00036.npy\t rock.00086.npy\n",
            "country.00037.npy    hiphop.00087.npy\tpop.00037.npy\t rock.00087.npy\n",
            "country.00038.npy    hiphop.00088.npy\tpop.00038.npy\t rock.00088.npy\n",
            "country.00039.npy    hiphop.00089.npy\tpop.00039.npy\t rock.00089.npy\n",
            "country.00040.npy    hiphop.00090.npy\tpop.00040.npy\t rock.00090.npy\n",
            "country.00041.npy    hiphop.00091.npy\tpop.00041.npy\t rock.00091.npy\n",
            "country.00042.npy    hiphop.00092.npy\tpop.00042.npy\t rock.00092.npy\n",
            "country.00043.npy    hiphop.00093.npy\tpop.00043.npy\t rock.00093.npy\n",
            "country.00044.npy    hiphop.00094.npy\tpop.00044.npy\t rock.00094.npy\n",
            "country.00045.npy    hiphop.00095.npy\tpop.00045.npy\t rock.00095.npy\n",
            "country.00046.npy    hiphop.00096.npy\tpop.00046.npy\t rock.00096.npy\n",
            "country.00047.npy    hiphop.00097.npy\tpop.00047.npy\t rock.00097.npy\n",
            "country.00048.npy    hiphop.00098.npy\tpop.00048.npy\t rock.00098.npy\n",
            "country.00049.npy    hiphop.00099.npy\tpop.00049.npy\t rock.00099.npy\n"
          ]
        }
      ],
      "source": [
        "!tar -xzf /bebra/MyDrive/data_for_ANN_ML/kurs_train/gtzan-jukebox.tar.gz\n",
        "!ls features"
      ]
    },
    {
      "cell_type": "code",
      "execution_count": 5,
      "metadata": {
        "id": "z4F4cYgnznLO"
      },
      "outputs": [],
      "source": [
        "batch_size = 16\n",
        "epochs = 20\n",
        "\n",
        "input_dim = 4800\n",
        "embed_dim = 512\n",
        "output_dim = 10"
      ]
    },
    {
      "cell_type": "code",
      "execution_count": 6,
      "metadata": {
        "id": "azDF5SwRRsdn"
      },
      "outputs": [],
      "source": [
        "class EmbedMusic(torch.nn.Module):\n",
        "  def __init__(self, input_dim=input_dim, embed_dim=embed_dim):\n",
        "    super().__init__()\n",
        "    self.embed_dim = embed_dim\n",
        "    self.input_dim = input_dim\n",
        "    self.embedding_layers = torch.nn.ModuleList([torch.nn.Linear(input_dim, embed_dim), torch.nn.Linear(embed_dim, embed_dim)])\n",
        "\n",
        "  def forward(self, x):\n",
        "    for emb in self.embedding_layers:\n",
        "      x = emb(x)\n",
        "    return x\n",
        "\n",
        "class ShallowClassifier(torch.nn.Module):\n",
        "  def __init__(self, input_dim=input_dim, embed_dim=embed_dim, output_dim=output_dim):\n",
        "    super().__init__()\n",
        "    self.embed_dim = embed_dim\n",
        "    self.input_dim = input_dim\n",
        "    self.output_dim = output_dim \n",
        "\n",
        "    self.embedder = EmbedMusic(input_dim, embed_dim)\n",
        "    self.classifier = torch.nn.Linear(embed_dim, output_dim)\n",
        "\n",
        "  def embed(self, x):\n",
        "    return self.embedder(x)\n",
        "\n",
        "  def forward(self, x):\n",
        "    y = self.embedder(x)\n",
        "    y = self.classifier(y)\n",
        "    return y "
      ]
    },
    {
      "cell_type": "code",
      "execution_count": 7,
      "metadata": {
        "id": "E7YJvUFPVZhg"
      },
      "outputs": [],
      "source": [
        "class GTZANDataset(Dataset):\n",
        "  def __init__(self, features_path):\n",
        "    self.npy_paths = sorted(glob.glob(features_path + '*.npy'))\n",
        "    assert len(self.npy_paths) == 1000\n",
        "    random.seed(0)\n",
        "    random.shuffle(self.npy_paths)\n",
        "\n",
        "    self.X = torch.tensor([np.load(p) for p in self.npy_paths])\n",
        "\n",
        "    self.le = LabelEncoder()\n",
        "    self.y = self.le.fit_transform(np.array([os.path.split(p)[1].split('.')[0] for p in self.npy_paths]))\n",
        "    self.y = torch.tensor(self.y)\n",
        "\n",
        "\n",
        "  def __getitem__(self, idx):\n",
        "    return self.X[idx], self.y[idx]\n",
        "\n",
        "\n",
        "  def get_genre_sample(self, genre, idx):\n",
        "    genre_encoded = list(self.le.classes_).index(genre)\n",
        "    genre_samples = self.y == genre_encoded\n",
        "    item_idx = [i for i, n in enumerate(genre_samples) if n][idx]\n",
        "    return self.X[item_idx]\n",
        "\n",
        "\n",
        "  def __len__(self):\n",
        "    return self.X.shape[0]"
      ]
    },
    {
      "cell_type": "code",
      "execution_count": 8,
      "metadata": {
        "colab": {
          "base_uri": "https://localhost:8080/"
        },
        "id": "WRpSDHu5WgUV",
        "outputId": "af4706a5-1804-4a5a-97ee-1b30d50933ef"
      },
      "outputs": [
        {
          "name": "stderr",
          "output_type": "stream",
          "text": [
            "<ipython-input-7-325d823194d8>:8: UserWarning: Creating a tensor from a list of numpy.ndarrays is extremely slow. Please consider converting the list to a single numpy.ndarray with numpy.array() before converting to a tensor. (Triggered internally at ../torch/csrc/utils/tensor_new.cpp:230.)\n",
            "  self.X = torch.tensor([np.load(p) for p in self.npy_paths])\n"
          ]
        }
      ],
      "source": [
        "train_dataset, test_dataset = random_split(GTZANDataset(\"features/\"), [0.8, 0.2])"
      ]
    },
    {
      "cell_type": "code",
      "execution_count": 9,
      "metadata": {
        "colab": {
          "base_uri": "https://localhost:8080/"
        },
        "id": "QDL6KEa10jOr",
        "outputId": "e02412d9-2578-46e8-dce6-fbd3dcd0e5e0"
      },
      "outputs": [
        {
          "data": {
            "text/plain": [
              "torch.Size([4800])"
            ]
          },
          "execution_count": 9,
          "metadata": {},
          "output_type": "execute_result"
        }
      ],
      "source": [
        "train_dataset[0][0].shape"
      ]
    },
    {
      "cell_type": "code",
      "execution_count": 16,
      "metadata": {
        "colab": {
          "base_uri": "https://localhost:8080/",
          "height": 66,
          "referenced_widgets": [
            "95f945e3f9a248d798b786cb019982f4",
            "a59c17f0a8634789a585f795637bf161",
            "8c5a1d8d1851460ca531510a31d9ea17",
            "4dbd854505ed4ac4a8f6312bd824dc1e",
            "723741807e934312b1c5a81267a3904c",
            "62581f18e8654712a3a24af98cae234a",
            "1184788093a646d79ebd2707c7a6e4cf",
            "9d925dd77f8740a884a3c384059d1e7d",
            "37647d5e0fa2444e99d4147964b6d1a4",
            "adc458dc3948491ea690830390670eed",
            "c392330f41234841a551ba364024b8e3"
          ]
        },
        "id": "1rx4ZM0bzt7T",
        "outputId": "b085d891-2d73-4f4b-c8cb-624aafff00c5"
      },
      "outputs": [
        {
          "data": {
            "application/vnd.jupyter.widget-view+json": {
              "model_id": "95f945e3f9a248d798b786cb019982f4",
              "version_major": 2,
              "version_minor": 0
            },
            "text/plain": [
              "  0%|          | 0/13 [00:00<?, ?it/s]"
            ]
          },
          "metadata": {},
          "output_type": "display_data"
        },
        {
          "name": "stdout",
          "output_type": "stream",
          "text": [
            "tensor(0.8850)\n"
          ]
        }
      ],
      "source": [
        "model = ShallowClassifier()\n",
        "loss_function = torch.nn.CrossEntropyLoss()\n",
        "optim = torch.optim.Adam(model.parameters(), lr=1e-5, weight_decay=1e-5)\n",
        "\n",
        "best_model_state_dict = None\n",
        "best_accuracy = 0\n",
        "\n",
        "for epoch in tqdm(range(epochs)):\n",
        "  train_data, val_data =  random_split(train_dataset, [0.8, 0.2])\n",
        "  train_loader = DataLoader(train_data, shuffle=True, batch_size=batch_size)\n",
        "  val_loader = DataLoader(val_data, shuffle=False, batch_size=batch_size)\n",
        "\n",
        "  # training stage\n",
        "  loss_agg = torch.tensor([])\n",
        "  iter = tqdm(train_loader)\n",
        "  iter.set_description(f\"Training, epoch: {epoch}\")\n",
        "  for batch in iter:\n",
        "    X, y = batch\n",
        "\n",
        "    y_hat = model(X)\n",
        "    optim.zero_grad()\n",
        "    loss = loss_function(y_hat, y)\n",
        "    loss_agg = torch.cat((loss_agg, torch.tensor([loss.item()])))\n",
        "    loss.backward()\n",
        "    optim.step()\n",
        "    iter.set_postfix({\"loss\": loss_agg.mean()})\n",
        "  \n",
        "  # validation stage\n",
        "  with torch.no_grad():\n",
        "    accuracy_agg = torch.tensor([])\n",
        "    iter = tqdm(val_loader)\n",
        "    iter.set_description(f\"Validating, epoch: {epoch}\")\n",
        "    for batch in iter:\n",
        "      X, y = batch\n",
        "      y_hat = model(X)\n",
        "      accuracy_agg = torch.cat((accuracy_agg, torch.tensor([(y == torch.argmax(y_hat, dim=1)).sum() / y.shape[0]])))\n",
        "      iter.set_postfix({\"accuracy\": accuracy_agg.mean()})\n",
        "\n",
        "    # memory save best model\n",
        "    if best_accuracy < accuracy_agg.mean():\n",
        "      best_model_state_dict = model.state_dict()\n",
        "      best_accuracy = accuracy_agg.mean()\n",
        "\n",
        "model.load_state_dict(best_model_state_dict)\n",
        "predicted = torch.tensor([]).reshape(0, output_dim)\n",
        "y = torch.tensor([]).reshape(0, 1)\n",
        "with torch.no_grad():\n",
        "  for test_batch in tqdm(DataLoader(test_dataset, batch_size=batch_size, shuffle=False)):\n",
        "    predicted = torch.vstack((predicted, model(test_batch[0])))\n",
        "    y = torch.vstack((y, test_batch[1].unsqueeze(1)))\n",
        "\n",
        "predicted = torch.argmax(predicted, 1)\n",
        "accuracy = torch.sum(predicted == y.squeeze())\n",
        "accuracy = accuracy / predicted.shape[0]\n",
        "print(accuracy)\n",
        "\n",
        "\n",
        "# save best model to gdisk\n",
        "torch.save(best_model_state_dict, \"/bebra/MyDrive/data_for_ANN_ML/kurs_train/classifier.pt\")"
      ]
    },
    {
      "cell_type": "code",
      "execution_count": null,
      "metadata": {
        "colab": {
          "base_uri": "https://localhost:8080/"
        },
        "id": "9ZmRA1_b5ZSs",
        "outputId": "54ade5cc-5ed9-447a-c28a-6cf947e6a8a5"
      },
      "outputs": [
        {
          "data": {
            "text/plain": [
              "array(['blues', 'classical', 'country', 'disco', 'hiphop', 'jazz',\n",
              "       'metal', 'pop', 'reggae', 'rock'], dtype='<U9')"
            ]
          },
          "execution_count": 55,
          "metadata": {},
          "output_type": "execute_result"
        }
      ],
      "source": [
        "train_dataset.dataset.le.classes_"
      ]
    },
    {
      "cell_type": "code",
      "execution_count": null,
      "metadata": {
        "colab": {
          "base_uri": "https://localhost:8080/"
        },
        "id": "tixZAPG9490e",
        "outputId": "5546e21f-ad3f-4fc2-e634-f7778fddbe0a"
      },
      "outputs": [
        {
          "name": "stdout",
          "output_type": "stream",
          "text": [
            "pop_1 pop_2: 0.9767765998840332\n",
            "pop_1 rock_1: 0.4867061972618103\n",
            "rock_1 pop_2: 0.46343111991882324\n"
          ]
        }
      ],
      "source": [
        "with torch.no_grad():\n",
        "  pop_1 = train_dataset.dataset.get_genre_sample(\"pop\", 1)\n",
        "  pop_2 = train_dataset.dataset.get_genre_sample(\"pop\", 50)\n",
        "  rock_1 = train_dataset.dataset.get_genre_sample(\"rock\", 2)\n",
        "\n",
        "  pop_1_embed = model.embed(pop_1)\n",
        "  pop_2_embed = model.embed(pop_2)\n",
        "  rock_1_embed = model.embed(rock_1)\n",
        "\n",
        "  print(f\"pop_1 pop_2: {torch.nn.functional.cosine_similarity(pop_1_embed, pop_2_embed, dim=0)}\")\n",
        "  print(f\"pop_1 rock_1: {torch.nn.functional.cosine_similarity(pop_1_embed, rock_1_embed, dim=0)}\")\n",
        "  print(f\"rock_1 pop_2: {torch.nn.functional.cosine_similarity(rock_1_embed, pop_2_embed, dim=0)}\")"
      ]
    },
    {
      "cell_type": "code",
      "execution_count": null,
      "metadata": {
        "colab": {
          "base_uri": "https://localhost:8080/"
        },
        "id": "GoOFwELatqGy",
        "outputId": "97a6792b-57f7-4102-ad86-2a4a554486eb"
      },
      "outputs": [
        {
          "name": "stdout",
          "output_type": "stream",
          "text": [
            "\n",
            "COMPARE metal WITH reggae\n",
            "metal_47, metal_44: 0.8419066071510315\n",
            "metal_44, reggae_47: -0.22881433367729187\n",
            "reggae_47, reggae_44: 0.8500155210494995\n",
            "\n",
            "COMPARE reggae WITH classical\n",
            "reggae_67, reggae_64: 0.41360610723495483\n",
            "reggae_64, classical_67: -0.03475770354270935\n",
            "classical_67, classical_64: 0.8088746070861816\n",
            "\n",
            "COMPARE metal WITH pop\n",
            "metal_9, metal_67: 0.8450638055801392\n",
            "metal_67, pop_9: 0.3266396224498749\n",
            "pop_9, pop_67: 0.9376591444015503\n",
            "\n",
            "COMPARE pop WITH reggae\n",
            "pop_21, pop_83: 0.9677761793136597\n",
            "pop_83, reggae_21: 0.29038333892822266\n",
            "reggae_21, reggae_83: 0.7081164121627808\n",
            "\n",
            "COMPARE classical WITH jazz\n",
            "classical_87, classical_36: 0.9775892496109009\n",
            "classical_36, jazz_87: 0.4397090673446655\n",
            "jazz_87, jazz_36: 0.7670404314994812\n"
          ]
        },
        {
          "name": "stderr",
          "output_type": "stream",
          "text": [
            "<ipython-input-57-7e5da49ef73a>:5: DeprecationWarning: This function is deprecated. Please call randint(0, 100 + 1) instead\n",
            "  samples_idx = np.random.random_integers(0, 100, (test_size, 2))\n"
          ]
        }
      ],
      "source": [
        "def test_random_embeddings(test_size=5):\n",
        "  np.random.seed(0)\n",
        "  genres = np.array(['blues', 'classical', 'country', 'disco', 'hiphop', 'jazz',\n",
        "       'metal', 'pop', 'reggae', 'rock'])\n",
        "  samples_idx = np.random.random_integers(0, 100, (test_size, 2))\n",
        "  samples_genres = np.random.choice(genres, (test_size, 2))\n",
        "  for idxs, genres in zip(samples_idx, samples_genres):\n",
        "    print(f\"\\nCOMPARE {genres[0]} WITH {genres[1]}\")\n",
        "    mixs = [(genres[0], idxs[1]), (genres[0], idxs[0]), (genres[1], idxs[1]), (genres[1], idxs[0])]\n",
        "    songs = map(lambda x: train_dataset.dataset.get_genre_sample(*x), mixs)\n",
        "    embeds = list(map(model.embed, songs))\n",
        "\n",
        "    for i in range(len(mixs) - 1):\n",
        "      cos = torch.nn.functional.cosine_similarity(embeds[i], embeds[i + 1], dim=0)\n",
        "      print(f\"{mixs[i][0]}_{mixs[i][1]}, {mixs[i + 1][0]}_{mixs[i + 1][1]}: {cos}\")\n",
        "\n",
        "test_random_embeddings()"
      ]
    },
    {
      "cell_type": "code",
      "execution_count": null,
      "metadata": {
        "id": "6g6kIMUXy-l2"
      },
      "outputs": [],
      "source": []
    }
  ],
  "metadata": {
    "colab": {
      "provenance": []
    },
    "gpuClass": "standard",
    "kernelspec": {
      "display_name": "venv",
      "language": "python",
      "name": "python3"
    },
    "language_info": {
      "name": "python",
      "version": "3.10.6"
    },
    "vscode": {
      "interpreter": {
        "hash": "681e2d4cf4d3a1b057636babef1d4f0fa1f5cf2f9f6ac8099b6f3581bea962d9"
      }
    },
    "widgets": {
      "application/vnd.jupyter.widget-state+json": {
        "1184788093a646d79ebd2707c7a6e4cf": {
          "model_module": "@jupyter-widgets/controls",
          "model_module_version": "1.5.0",
          "model_name": "DescriptionStyleModel",
          "state": {
            "_model_module": "@jupyter-widgets/controls",
            "_model_module_version": "1.5.0",
            "_model_name": "DescriptionStyleModel",
            "_view_count": null,
            "_view_module": "@jupyter-widgets/base",
            "_view_module_version": "1.2.0",
            "_view_name": "StyleView",
            "description_width": ""
          }
        },
        "37647d5e0fa2444e99d4147964b6d1a4": {
          "model_module": "@jupyter-widgets/controls",
          "model_module_version": "1.5.0",
          "model_name": "ProgressStyleModel",
          "state": {
            "_model_module": "@jupyter-widgets/controls",
            "_model_module_version": "1.5.0",
            "_model_name": "ProgressStyleModel",
            "_view_count": null,
            "_view_module": "@jupyter-widgets/base",
            "_view_module_version": "1.2.0",
            "_view_name": "StyleView",
            "bar_color": null,
            "description_width": ""
          }
        },
        "4dbd854505ed4ac4a8f6312bd824dc1e": {
          "model_module": "@jupyter-widgets/controls",
          "model_module_version": "1.5.0",
          "model_name": "HTMLModel",
          "state": {
            "_dom_classes": [],
            "_model_module": "@jupyter-widgets/controls",
            "_model_module_version": "1.5.0",
            "_model_name": "HTMLModel",
            "_view_count": null,
            "_view_module": "@jupyter-widgets/controls",
            "_view_module_version": "1.5.0",
            "_view_name": "HTMLView",
            "description": "",
            "description_tooltip": null,
            "layout": "IPY_MODEL_adc458dc3948491ea690830390670eed",
            "placeholder": "​",
            "style": "IPY_MODEL_c392330f41234841a551ba364024b8e3",
            "value": " 13/13 [00:00&lt;00:00, 107.35it/s]"
          }
        },
        "62581f18e8654712a3a24af98cae234a": {
          "model_module": "@jupyter-widgets/base",
          "model_module_version": "1.2.0",
          "model_name": "LayoutModel",
          "state": {
            "_model_module": "@jupyter-widgets/base",
            "_model_module_version": "1.2.0",
            "_model_name": "LayoutModel",
            "_view_count": null,
            "_view_module": "@jupyter-widgets/base",
            "_view_module_version": "1.2.0",
            "_view_name": "LayoutView",
            "align_content": null,
            "align_items": null,
            "align_self": null,
            "border": null,
            "bottom": null,
            "display": null,
            "flex": null,
            "flex_flow": null,
            "grid_area": null,
            "grid_auto_columns": null,
            "grid_auto_flow": null,
            "grid_auto_rows": null,
            "grid_column": null,
            "grid_gap": null,
            "grid_row": null,
            "grid_template_areas": null,
            "grid_template_columns": null,
            "grid_template_rows": null,
            "height": null,
            "justify_content": null,
            "justify_items": null,
            "left": null,
            "margin": null,
            "max_height": null,
            "max_width": null,
            "min_height": null,
            "min_width": null,
            "object_fit": null,
            "object_position": null,
            "order": null,
            "overflow": null,
            "overflow_x": null,
            "overflow_y": null,
            "padding": null,
            "right": null,
            "top": null,
            "visibility": null,
            "width": null
          }
        },
        "723741807e934312b1c5a81267a3904c": {
          "model_module": "@jupyter-widgets/base",
          "model_module_version": "1.2.0",
          "model_name": "LayoutModel",
          "state": {
            "_model_module": "@jupyter-widgets/base",
            "_model_module_version": "1.2.0",
            "_model_name": "LayoutModel",
            "_view_count": null,
            "_view_module": "@jupyter-widgets/base",
            "_view_module_version": "1.2.0",
            "_view_name": "LayoutView",
            "align_content": null,
            "align_items": null,
            "align_self": null,
            "border": null,
            "bottom": null,
            "display": null,
            "flex": null,
            "flex_flow": null,
            "grid_area": null,
            "grid_auto_columns": null,
            "grid_auto_flow": null,
            "grid_auto_rows": null,
            "grid_column": null,
            "grid_gap": null,
            "grid_row": null,
            "grid_template_areas": null,
            "grid_template_columns": null,
            "grid_template_rows": null,
            "height": null,
            "justify_content": null,
            "justify_items": null,
            "left": null,
            "margin": null,
            "max_height": null,
            "max_width": null,
            "min_height": null,
            "min_width": null,
            "object_fit": null,
            "object_position": null,
            "order": null,
            "overflow": null,
            "overflow_x": null,
            "overflow_y": null,
            "padding": null,
            "right": null,
            "top": null,
            "visibility": null,
            "width": null
          }
        },
        "8c5a1d8d1851460ca531510a31d9ea17": {
          "model_module": "@jupyter-widgets/controls",
          "model_module_version": "1.5.0",
          "model_name": "FloatProgressModel",
          "state": {
            "_dom_classes": [],
            "_model_module": "@jupyter-widgets/controls",
            "_model_module_version": "1.5.0",
            "_model_name": "FloatProgressModel",
            "_view_count": null,
            "_view_module": "@jupyter-widgets/controls",
            "_view_module_version": "1.5.0",
            "_view_name": "ProgressView",
            "bar_style": "success",
            "description": "",
            "description_tooltip": null,
            "layout": "IPY_MODEL_9d925dd77f8740a884a3c384059d1e7d",
            "max": 13,
            "min": 0,
            "orientation": "horizontal",
            "style": "IPY_MODEL_37647d5e0fa2444e99d4147964b6d1a4",
            "value": 13
          }
        },
        "95f945e3f9a248d798b786cb019982f4": {
          "model_module": "@jupyter-widgets/controls",
          "model_module_version": "1.5.0",
          "model_name": "HBoxModel",
          "state": {
            "_dom_classes": [],
            "_model_module": "@jupyter-widgets/controls",
            "_model_module_version": "1.5.0",
            "_model_name": "HBoxModel",
            "_view_count": null,
            "_view_module": "@jupyter-widgets/controls",
            "_view_module_version": "1.5.0",
            "_view_name": "HBoxView",
            "box_style": "",
            "children": [
              "IPY_MODEL_a59c17f0a8634789a585f795637bf161",
              "IPY_MODEL_8c5a1d8d1851460ca531510a31d9ea17",
              "IPY_MODEL_4dbd854505ed4ac4a8f6312bd824dc1e"
            ],
            "layout": "IPY_MODEL_723741807e934312b1c5a81267a3904c"
          }
        },
        "9d925dd77f8740a884a3c384059d1e7d": {
          "model_module": "@jupyter-widgets/base",
          "model_module_version": "1.2.0",
          "model_name": "LayoutModel",
          "state": {
            "_model_module": "@jupyter-widgets/base",
            "_model_module_version": "1.2.0",
            "_model_name": "LayoutModel",
            "_view_count": null,
            "_view_module": "@jupyter-widgets/base",
            "_view_module_version": "1.2.0",
            "_view_name": "LayoutView",
            "align_content": null,
            "align_items": null,
            "align_self": null,
            "border": null,
            "bottom": null,
            "display": null,
            "flex": null,
            "flex_flow": null,
            "grid_area": null,
            "grid_auto_columns": null,
            "grid_auto_flow": null,
            "grid_auto_rows": null,
            "grid_column": null,
            "grid_gap": null,
            "grid_row": null,
            "grid_template_areas": null,
            "grid_template_columns": null,
            "grid_template_rows": null,
            "height": null,
            "justify_content": null,
            "justify_items": null,
            "left": null,
            "margin": null,
            "max_height": null,
            "max_width": null,
            "min_height": null,
            "min_width": null,
            "object_fit": null,
            "object_position": null,
            "order": null,
            "overflow": null,
            "overflow_x": null,
            "overflow_y": null,
            "padding": null,
            "right": null,
            "top": null,
            "visibility": null,
            "width": null
          }
        },
        "a59c17f0a8634789a585f795637bf161": {
          "model_module": "@jupyter-widgets/controls",
          "model_module_version": "1.5.0",
          "model_name": "HTMLModel",
          "state": {
            "_dom_classes": [],
            "_model_module": "@jupyter-widgets/controls",
            "_model_module_version": "1.5.0",
            "_model_name": "HTMLModel",
            "_view_count": null,
            "_view_module": "@jupyter-widgets/controls",
            "_view_module_version": "1.5.0",
            "_view_name": "HTMLView",
            "description": "",
            "description_tooltip": null,
            "layout": "IPY_MODEL_62581f18e8654712a3a24af98cae234a",
            "placeholder": "​",
            "style": "IPY_MODEL_1184788093a646d79ebd2707c7a6e4cf",
            "value": "100%"
          }
        },
        "adc458dc3948491ea690830390670eed": {
          "model_module": "@jupyter-widgets/base",
          "model_module_version": "1.2.0",
          "model_name": "LayoutModel",
          "state": {
            "_model_module": "@jupyter-widgets/base",
            "_model_module_version": "1.2.0",
            "_model_name": "LayoutModel",
            "_view_count": null,
            "_view_module": "@jupyter-widgets/base",
            "_view_module_version": "1.2.0",
            "_view_name": "LayoutView",
            "align_content": null,
            "align_items": null,
            "align_self": null,
            "border": null,
            "bottom": null,
            "display": null,
            "flex": null,
            "flex_flow": null,
            "grid_area": null,
            "grid_auto_columns": null,
            "grid_auto_flow": null,
            "grid_auto_rows": null,
            "grid_column": null,
            "grid_gap": null,
            "grid_row": null,
            "grid_template_areas": null,
            "grid_template_columns": null,
            "grid_template_rows": null,
            "height": null,
            "justify_content": null,
            "justify_items": null,
            "left": null,
            "margin": null,
            "max_height": null,
            "max_width": null,
            "min_height": null,
            "min_width": null,
            "object_fit": null,
            "object_position": null,
            "order": null,
            "overflow": null,
            "overflow_x": null,
            "overflow_y": null,
            "padding": null,
            "right": null,
            "top": null,
            "visibility": null,
            "width": null
          }
        },
        "c392330f41234841a551ba364024b8e3": {
          "model_module": "@jupyter-widgets/controls",
          "model_module_version": "1.5.0",
          "model_name": "DescriptionStyleModel",
          "state": {
            "_model_module": "@jupyter-widgets/controls",
            "_model_module_version": "1.5.0",
            "_model_name": "DescriptionStyleModel",
            "_view_count": null,
            "_view_module": "@jupyter-widgets/base",
            "_view_module_version": "1.2.0",
            "_view_name": "StyleView",
            "description_width": ""
          }
        }
      }
    }
  },
  "nbformat": 4,
  "nbformat_minor": 0
}
