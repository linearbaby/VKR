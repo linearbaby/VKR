{
 "cells": [
  {
   "cell_type": "code",
   "execution_count": 54,
   "metadata": {},
   "outputs": [],
   "source": [
    "import pandas as pd\n",
    "import numpy as np\n",
    "import torch\n",
    "from pathlib import Path\n",
    "import faiss\n",
    "from sklearn.metrics import ndcg_score, average_precision_score\n",
    "from db_connector import music_connector_factory"
   ]
  },
  {
   "cell_type": "code",
   "execution_count": 3,
   "metadata": {},
   "outputs": [],
   "source": [
    "con = music_connector_factory(\n",
    "    \"DF\",\n",
    "    data_path=\"/home/artem/grad/mvectorizer/data/gtzan\",\n",
    "    music_location=\"/home/artem/grad/mvectorizer/data/gtzan/samples\",\n",
    "    music_info_df_name=\"music_info.csv\"\n",
    ")\n",
    "emb_map_name = \"embeddings\"\n",
    "con.load_map(emb_map_name)"
   ]
  },
  {
   "cell_type": "code",
   "execution_count": 11,
   "metadata": {},
   "outputs": [
    {
     "data": {
      "text/plain": [
       "array([[0., 0., 0., ..., 0., 0., 0.],\n",
       "       [0., 0., 0., ..., 0., 0., 0.],\n",
       "       [0., 0., 0., ..., 0., 0., 0.],\n",
       "       ...,\n",
       "       [0., 1., 0., ..., 0., 0., 0.],\n",
       "       [0., 0., 0., ..., 0., 0., 0.],\n",
       "       [1., 0., 1., ..., 1., 0., 1.]])"
      ]
     },
     "execution_count": 11,
     "metadata": {},
     "output_type": "execute_result"
    }
   ],
   "source": [
    "user_num = 1000\n",
    "syntetic = []\n",
    "for i in range(user_num):\n",
    "    user_interactions = np.zeros(1000)\n",
    "    liked = np.random.choice(list(range(10)), (6))\n",
    "    primary = liked[0:1]\n",
    "    secondary = liked[1:3]\n",
    "    thirdly = liked[3:]\n",
    "\n",
    "    user_interactions[primary[0] * 100 + np.random.choice(list(range(100)), 40)] = 1\n",
    "    for second in secondary:\n",
    "        user_interactions[second * 100 + np.random.choice(list(range(100)), 20)] = 1\n",
    "    for third in thirdly:\n",
    "        user_interactions[third * 100 + np.random.choice(list(range(100)), 10)] = 1\n",
    "\n",
    "    syntetic.append(user_interactions)\n",
    "    \n",
    "syntetic = np.vstack(syntetic)\n",
    "syntetic"
   ]
  },
  {
   "cell_type": "code",
   "execution_count": 15,
   "metadata": {},
   "outputs": [
    {
     "name": "stderr",
     "output_type": "stream",
     "text": [
      "/tmp/ipykernel_4001/2059004530.py:8: FutureWarning: arrays to stack must be passed as a \"sequence\" type such as list or tuple. Support for non-sequence iterables such as generators is deprecated as of NumPy 1.16 and will raise an error in the future.\n",
      "  embeddings_from_model = np.vstack(map(lambda x: con._get_embedding(emb_map_name, x), range(1000)))\n"
     ]
    }
   ],
   "source": [
    "emb_location = Path(\"/home/artem/grad/mvectorizer/data/gtzan/features\")\n",
    "music_info_df = pd.read_csv(\"/home/artem/grad/mvectorizer/data/gtzan/music_info.csv\")\n",
    "embeddings_from_jukebox = []\n",
    "for music_emb in music_info_df[\"tracks\"]:\n",
    "    embeddings_from_jukebox.append(np.load(emb_location / (music_emb + \".npy\")))\n",
    "\n",
    "\n",
    "embeddings_from_model = np.vstack(map(lambda x: con._get_embedding(emb_map_name, x), range(1000)))\n",
    "embeddings_from_jukebox = np.vstack(embeddings_from_jukebox)"
   ]
  },
  {
   "cell_type": "code",
   "execution_count": 23,
   "metadata": {},
   "outputs": [],
   "source": [
    "user_vectors_model = []\n",
    "user_vectors_jukebox = []\n",
    "for user_emb in syntetic:\n",
    "    user_music = np.where(user_emb > 0)[0]\n",
    "    user_vectors_jukebox.append(np.sum(embeddings_from_jukebox[user_music], axis=0))\n",
    "    user_vectors_model.append(np.sum(embeddings_from_model[user_music], axis=0))\n",
    "    user_vectors_jukebox[-1] = user_vectors_jukebox[-1] / len(user_music)\n",
    "    user_vectors_model[-1] = user_vectors_model[-1] / len(user_music)\n",
    "\n",
    "\n",
    "user_vectors_model = np.vstack(user_vectors_model)\n",
    "user_vectors_jukebox = np.vstack(user_vectors_jukebox)"
   ]
  },
  {
   "cell_type": "code",
   "execution_count": 26,
   "metadata": {},
   "outputs": [
    {
     "data": {
      "text/plain": [
       "(1000, 4800)"
      ]
     },
     "execution_count": 26,
     "metadata": {},
     "output_type": "execute_result"
    }
   ],
   "source": [
    "user_vectors_jukebox.shape"
   ]
  },
  {
   "cell_type": "code",
   "execution_count": 28,
   "metadata": {},
   "outputs": [],
   "source": [
    "index_jukebox = faiss.index_factory(user_vectors_jukebox.shape[1], \"Flat\", faiss.METRIC_INNER_PRODUCT)\n",
    "index_model = faiss.index_factory(user_vectors_model.shape[1], \"Flat\", faiss.METRIC_INNER_PRODUCT)"
   ]
  },
  {
   "cell_type": "code",
   "execution_count": 32,
   "metadata": {},
   "outputs": [],
   "source": [
    "index_jukebox.add(embeddings_from_jukebox)#, np.array(range(1000)))\n",
    "index_model.add(embeddings_from_model)#, np.array(range(1000)))"
   ]
  },
  {
   "cell_type": "code",
   "execution_count": 46,
   "metadata": {},
   "outputs": [],
   "source": [
    "recommendations = []\n",
    "for user, index in zip([user_vectors_model, user_vectors_jukebox ], [index_model, index_jukebox]):\n",
    "    recommendations.append(index.search(user, 1000))"
   ]
  },
  {
   "cell_type": "code",
   "execution_count": 47,
   "metadata": {},
   "outputs": [],
   "source": [
    "recommendations[0] = np.take(recommendations[0][0], recommendations[0][1])\n",
    "recommendations[1] = np.take(recommendations[1][0], recommendations[1][1])"
   ]
  },
  {
   "cell_type": "code",
   "execution_count": 58,
   "metadata": {},
   "outputs": [
    {
     "name": "stdout",
     "output_type": "stream",
     "text": [
      "model  ndcg score 0.11638086044239242\n",
      "model  average precision score 0.11296332766633338\n",
      "jukebox  ndcg score 0.09784821429211422\n",
      "jukebox  average precision score 0.09941748734646913\n",
      "random  ndcg score 0.0990616609795642\n",
      "random  average precision score 0.1004856217643217\n"
     ]
    }
   ],
   "source": [
    "random_solution = np.random.rand(*syntetic.shape) * 2 - 1\n",
    "recommendations.append(random_solution)\n",
    "for solution_type, recommendation in zip([\"model\", \"jukebox\", \"random\"], recommendations):\n",
    "    print(solution_type, \" ndcg score\", ndcg_score(syntetic, recommendation, k=100))\n",
    "    print(solution_type, \" average precision score\", average_precision_score(syntetic, recommendation))\n"
   ]
  },
  {
   "cell_type": "code",
   "execution_count": null,
   "metadata": {},
   "outputs": [],
   "source": []
  }
 ],
 "metadata": {
  "kernelspec": {
   "display_name": "venv",
   "language": "python",
   "name": "python3"
  },
  "language_info": {
   "codemirror_mode": {
    "name": "ipython",
    "version": 3
   },
   "file_extension": ".py",
   "mimetype": "text/x-python",
   "name": "python",
   "nbconvert_exporter": "python",
   "pygments_lexer": "ipython3",
   "version": "3.10.6"
  },
  "orig_nbformat": 4
 },
 "nbformat": 4,
 "nbformat_minor": 2
}
