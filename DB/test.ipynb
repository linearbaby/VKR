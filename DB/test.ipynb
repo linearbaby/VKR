{
 "cells": [
  {
   "cell_type": "code",
   "execution_count": 1,
   "metadata": {},
   "outputs": [],
   "source": [
    "import pandas as pd\n",
    "from torch.utils.data import Dataset\n",
    "import numpy as np\n",
    "import librosa as ls\n",
    "from pathlib import Path"
   ]
  },
  {
   "cell_type": "code",
   "execution_count": 52,
   "metadata": {},
   "outputs": [],
   "source": [
    "class CallbackDataset(Dataset):\n",
    "    def __init__(self, getitem_callback, len):\n",
    "        super().__init__()\n",
    "        self.len = len\n",
    "        self.getitem_callback = getitem_callback\n",
    "\n",
    "    def __getitem__(self, idx):\n",
    "        return self.getitem_callback(idx)\n",
    "    \n",
    "    def __len__(self):\n",
    "        return self.len\n",
    "\n",
    "\n",
    "class SimpleDFConnector:\n",
    "    def __init__(self, meta_path, music_info_path, music_location):\n",
    "        \"\"\"\n",
    "        meta_path - путь к общей папке метаинформации\n",
    "        music_info_path - относительный пути от meta_path до инфо-дф о музыке формата \n",
    "            csv[song_id|tracks|paths], delim=\",\"\n",
    "        music_location - путь к папке, в которой располагаются все музыкальные файлы\n",
    "        \"\"\"\n",
    "        super().__init__()\n",
    "        self.music_info_path = music_info_path\n",
    "        self.music_location = music_location\n",
    "        self.meta_path = Path(meta_path)\n",
    "\n",
    "        self.music_info = pd.read_csv(self.meta_path / music_info_path, index_col=\"song_id\")\n",
    "        self.embedding_maps = {}\n",
    "\n",
    "\n",
    "    def _get_song(self, idx):\n",
    "        song_name = self.music_info.loc[idx].paths\n",
    "        song, sample_rate = ls.load(Path(self.music_location) / song_name)\n",
    "        return song, idx\n",
    "\n",
    "\n",
    "    def get_songs_dataset(self):\n",
    "        return CallbackDataset(self._get_song, len(self.music_info))\n",
    "\n",
    "\n",
    "    def get_avalilable_songs(self, music_indicies):\n",
    "        return list(map(self._get_song, music_indicies))\n",
    "\n",
    "\n",
    "    def create_map(self, name):\n",
    "        self.embedding_maps[name] = pd.DataFrame(columns=[\"embeddings\"])\n",
    "        self.embedding_maps[name].index.name = \"song_id\"\n",
    "        self.embedding_maps[name] = self.embedding_maps[name].astype({\"embeddings\": \"object\"})\n",
    "\n",
    "\n",
    "    def load_map(self, name):\n",
    "        self.embedding_maps[name] = pd.read_csv(self.meta_path / f\"{name}.csv\", index_col=\"song_id\")\n",
    "\n",
    "\n",
    "    def save_map(self, name):\n",
    "        self.embedding_maps[name].to_csv(self.meta_path / f\"{name}.csv\", header=True)\n",
    "\n",
    "\n",
    "    def insert_to_map(self, map_name, song_id, embedding):\n",
    "        self.embedding_maps[map_name].at[song_id, \"embeddings\"] = embedding\n",
    "\n",
    "\n",
    "    def _get_embedding(self, map_name, song_id):\n",
    "        # get embedding in form of string [1, 2, 3], then crop parentheses and \n",
    "        # pass it to numpy.fromstring\n",
    "        return np.fromstring(self.embedding_maps[map_name].loc[song_id].embeddings[1:-1], sep=\" \"), song_id\n",
    "\n",
    "\n",
    "    def get_embeddings_dataset(self, map_name):\n",
    "        return CallbackDataset(lambda idx: self._get_embedding(map_name, idx), len(self.embedding_maps[map_name]))\n",
    "        "
   ]
  },
  {
   "cell_type": "code",
   "execution_count": 53,
   "metadata": {},
   "outputs": [],
   "source": [
    "sc = SimpleDFConnector(\"/home/artem/grad/mvectorizer/data\", \"music_info.csv\", \"/home/artem/grad/mvectorizer/data/samples\")"
   ]
  },
  {
   "cell_type": "code",
   "execution_count": 54,
   "metadata": {},
   "outputs": [],
   "source": [
    "sc.create_map(\"bera\")"
   ]
  },
  {
   "cell_type": "code",
   "execution_count": 55,
   "metadata": {},
   "outputs": [],
   "source": [
    "sc.insert_to_map(\"bera\", 1, np.array((1, 2 ,3)))"
   ]
  },
  {
   "cell_type": "code",
   "execution_count": 57,
   "metadata": {},
   "outputs": [],
   "source": [
    "sc.save_map(\"bera\")"
   ]
  },
  {
   "cell_type": "code",
   "execution_count": 56,
   "metadata": {},
   "outputs": [
    {
     "data": {
      "text/html": [
       "<div>\n",
       "<style scoped>\n",
       "    .dataframe tbody tr th:only-of-type {\n",
       "        vertical-align: middle;\n",
       "    }\n",
       "\n",
       "    .dataframe tbody tr th {\n",
       "        vertical-align: top;\n",
       "    }\n",
       "\n",
       "    .dataframe thead th {\n",
       "        text-align: right;\n",
       "    }\n",
       "</style>\n",
       "<table border=\"1\" class=\"dataframe\">\n",
       "  <thead>\n",
       "    <tr style=\"text-align: right;\">\n",
       "      <th></th>\n",
       "      <th>embeddings</th>\n",
       "    </tr>\n",
       "    <tr>\n",
       "      <th>song_id</th>\n",
       "      <th></th>\n",
       "    </tr>\n",
       "  </thead>\n",
       "  <tbody>\n",
       "    <tr>\n",
       "      <th>1</th>\n",
       "      <td>[1, 2, 3]</td>\n",
       "    </tr>\n",
       "  </tbody>\n",
       "</table>\n",
       "</div>"
      ],
      "text/plain": [
       "        embeddings\n",
       "song_id           \n",
       "1        [1, 2, 3]"
      ]
     },
     "execution_count": 56,
     "metadata": {},
     "output_type": "execute_result"
    }
   ],
   "source": [
    "sc.embedding_maps[\"bera\"]"
   ]
  },
  {
   "cell_type": "code",
   "execution_count": 39,
   "metadata": {},
   "outputs": [
    {
     "data": {
      "text/plain": [
       "array([2.18278728e-11, 3.31965566e-11, 1.36424205e-11, ...,\n",
       "       2.35589826e-03, 2.68338970e-03, 2.94390065e-03], dtype=float32)"
      ]
     },
     "execution_count": 39,
     "metadata": {},
     "output_type": "execute_result"
    }
   ],
   "source": [
    "sc._get_song(1)"
   ]
  },
  {
   "cell_type": "code",
   "execution_count": 5,
   "metadata": {},
   "outputs": [
    {
     "ename": "AttributeError",
     "evalue": "'str' object has no attribute 'to_numpy'",
     "output_type": "error",
     "traceback": [
      "\u001b[0;31m---------------------------------------------------------------------------\u001b[0m",
      "\u001b[0;31mAttributeError\u001b[0m                            Traceback (most recent call last)",
      "Cell \u001b[0;32mIn[5], line 1\u001b[0m\n\u001b[0;32m----> 1\u001b[0m \u001b[39mfor\u001b[39;00m i \u001b[39min\u001b[39;00m sc\u001b[39m.\u001b[39mget_embeddings_dataset(\u001b[39m\"\u001b[39m\u001b[39mmusic_embeddings\u001b[39m\u001b[39m\"\u001b[39m):\n\u001b[1;32m      2\u001b[0m     \u001b[39mprint\u001b[39m(i)\n",
      "Cell \u001b[0;32mIn[2], line 8\u001b[0m, in \u001b[0;36mCallbackDataset.__getitem__\u001b[0;34m(self, idx)\u001b[0m\n\u001b[1;32m      7\u001b[0m \u001b[39mdef\u001b[39;00m \u001b[39m__getitem__\u001b[39m(\u001b[39mself\u001b[39m, idx):\n\u001b[0;32m----> 8\u001b[0m     \u001b[39mreturn\u001b[39;00m \u001b[39mself\u001b[39;49m\u001b[39m.\u001b[39;49mgetitem_callback(idx)\n",
      "Cell \u001b[0;32mIn[2], line 68\u001b[0m, in \u001b[0;36mSimpleDFConnector.get_embeddings_dataset.<locals>.<lambda>\u001b[0;34m(idx)\u001b[0m\n\u001b[1;32m     67\u001b[0m \u001b[39mdef\u001b[39;00m \u001b[39mget_embeddings_dataset\u001b[39m(\u001b[39mself\u001b[39m, map_name):\n\u001b[0;32m---> 68\u001b[0m     \u001b[39mreturn\u001b[39;00m CallbackDataset(\u001b[39mlambda\u001b[39;00m idx: \u001b[39mself\u001b[39;49m\u001b[39m.\u001b[39;49m_get_embedding(map_name, idx), \u001b[39mlen\u001b[39m(\u001b[39mself\u001b[39m\u001b[39m.\u001b[39membedding_maps[map_name]))\n",
      "Cell \u001b[0;32mIn[2], line 64\u001b[0m, in \u001b[0;36mSimpleDFConnector._get_embedding\u001b[0;34m(self, map_name, song_id)\u001b[0m\n\u001b[1;32m     63\u001b[0m \u001b[39mdef\u001b[39;00m \u001b[39m_get_embedding\u001b[39m(\u001b[39mself\u001b[39m, map_name, song_id):\n\u001b[0;32m---> 64\u001b[0m     \u001b[39mreturn\u001b[39;00m \u001b[39mself\u001b[39;49m\u001b[39m.\u001b[39;49membedding_maps[map_name]\u001b[39m.\u001b[39;49mloc[song_id]\u001b[39m.\u001b[39;49membeddings\u001b[39m.\u001b[39;49mto_numpy()\n",
      "\u001b[0;31mAttributeError\u001b[0m: 'str' object has no attribute 'to_numpy'"
     ]
    }
   ],
   "source": [
    "for i in sc.get_embeddings_dataset(\"music_embeddings\"):\n",
    "    print(i)"
   ]
  }
 ],
 "metadata": {
  "kernelspec": {
   "display_name": "venv",
   "language": "python",
   "name": "python3"
  },
  "language_info": {
   "codemirror_mode": {
    "name": "ipython",
    "version": 3
   },
   "file_extension": ".py",
   "mimetype": "text/x-python",
   "name": "python",
   "nbconvert_exporter": "python",
   "pygments_lexer": "ipython3",
   "version": "3.10.6"
  },
  "orig_nbformat": 4,
  "vscode": {
   "interpreter": {
    "hash": "681e2d4cf4d3a1b057636babef1d4f0fa1f5cf2f9f6ac8099b6f3581bea962d9"
   }
  }
 },
 "nbformat": 4,
 "nbformat_minor": 2
}
